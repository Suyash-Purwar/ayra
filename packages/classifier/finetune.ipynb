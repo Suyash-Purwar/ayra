{
 "cells": [
  {
   "cell_type": "code",
   "execution_count": null,
   "id": "b2174e51",
   "metadata": {},
   "outputs": [],
   "source": [
    "import pandas as pd\n",
    "import configparser\n",
    "import openai\n",
    "\n",
    "# Read credentials\n",
    "parser = configparser.ConfigParser()\n",
    "parser.read('./config/config.ini')\n",
    "print(parser['openai']['TRAINING_DATA_FILE_ID'])\n",
    "\n",
    "# Read raw dataset\n",
    "# Change the iteration folder number for every iteration\n",
    "data = pd.read_csv(\"./dataset/raw-data.csv\")\n",
    "data_df = pd.DataFrame(data)\n",
    "\n",
    "data_df"
   ]
  },
  {
   "cell_type": "code",
   "execution_count": null,
   "id": "5956dc98",
   "metadata": {},
   "outputs": [],
   "source": [
    "# Convent CSV to JSONL\n",
    "data_df.to_json(\"./dataset/training-data.jsonl\", orient='records', lines=True)"
   ]
  },
  {
   "cell_type": "code",
   "execution_count": null,
   "id": "0de02417",
   "metadata": {},
   "outputs": [],
   "source": [
    "# Add OpenAI credentials\n",
    "openai.api_key = parser['openai']['ACCESS_KEY']"
   ]
  },
  {
   "cell_type": "code",
   "execution_count": null,
   "id": "b0a36a78",
   "metadata": {},
   "outputs": [],
   "source": [
    "# Lists the fine tune odels created\n",
    "openai.FineTune.list()"
   ]
  },
  {
   "cell_type": "code",
   "execution_count": null,
   "id": "2882c5b1",
   "metadata": {
    "vscode": {
     "languageId": "powershell"
    }
   },
   "outputs": [],
   "source": [
    "# Sublets the dataset into training and validation jsonl\n",
    "# Formats the dataset for best training results\n",
    "# Run in terminal\n",
    "\n",
    "cd <project folder>/packages/classifer/dataset\n",
    "openai tools fine_tunes.prepare_data -f 'training-data.jsonl' -q"
   ]
  },
  {
   "cell_type": "code",
   "execution_count": null,
   "id": "4d645c21",
   "metadata": {},
   "outputs": [],
   "source": [
    "# Upload training and validation jsonl file\n",
    "# Retrieve the ID\n",
    "# Run this code once to upload the file\n",
    "\n",
    "training_data = openai.File.create(\n",
    "  file=open(\"./dataset/training-data_prepared_train.jsonl\", \"rb\"),\n",
    "  purpose='fine-tune'\n",
    ")\n",
    "training_data_file_id = training_data.id\n",
    "\n",
    "validation_data = openai.File.create(\n",
    "  file=open(\"./dataset/training-data_prepared_valid.jsonl\", \"rb\"),\n",
    "  purpose='fine-tune'\n",
    ")\n",
    "validation_data_file_id = validation_data.id"
   ]
  },
  {
   "cell_type": "code",
   "execution_count": null,
   "id": "2d94abcd",
   "metadata": {},
   "outputs": [],
   "source": [
    "print(training_data_file_id)\n",
    "print(validation_data_file_id)"
   ]
  },
  {
   "cell_type": "code",
   "execution_count": null,
   "id": "d626d021",
   "metadata": {},
   "outputs": [],
   "source": [
    "# Snippet to delete the file\n",
    "\n",
    "training_data_file_id = parser['openai']['TRAINING_DATA_FILE_ID']\n",
    "validation_data_file_id = parser['openai']['VALIDATION_DATA_FILE_ID']\n",
    "\n",
    "openai.File.delete(training_data_file_id)\n",
    "openai.File.delete(validation_data_file_id)"
   ]
  },
  {
   "cell_type": "code",
   "execution_count": null,
   "id": "5c19ba95",
   "metadata": {},
   "outputs": [],
   "source": [
    "# Equivalent CLI query: openai api fine_tunes.create -t \"training-data_prepared_train.jsonl\" -v \"training-data_prepared_valid.jsonl\" --compute_classification_metrics --classification_n_classes 7\n",
    "\n",
    "openai.FineTune.create(\n",
    "  training_file=parser['openai']['TRAINING_DATA_FILE_ID'],\n",
    "  validation_file=parser['openai']['VALIDATION_DATA_FILE_ID'],\n",
    "  model=parser['openai']['MODEL_NAME'],\n",
    "  compute_classification_metrics=True,\n",
    "  classification_n_classes=7,\n",
    "  suffix=\"ayra\"\n",
    ")"
   ]
  },
  {
   "cell_type": "code",
   "execution_count": null,
   "id": "b4bf459d",
   "metadata": {},
   "outputs": [],
   "source": [
    "openai.FineTune.retrieve(id='ft-O7RMjF3IiBatt5YDf2YY2xqv')"
   ]
  },
  {
   "cell_type": "code",
   "execution_count": null,
   "id": "2114799f",
   "metadata": {},
   "outputs": [],
   "source": [
    "# Checks the status of the fine tune job\n",
    "\n",
    "openai.FineTune.list_events(id=\"ft-O7RMjF3IiBatt5YDf2YY2xqv\")\n",
    "\n",
    "# Command Line version\n",
    "\n",
    "# openai --api-key <api-key> api fine_tunes.follow -i <fine-tune_id>"
   ]
  }
 ],
 "metadata": {
  "kernelspec": {
   "display_name": "Python 3 (ipykernel)",
   "language": "python",
   "name": "python3"
  },
  "language_info": {
   "codemirror_mode": {
    "name": "ipython",
    "version": 3
   },
   "file_extension": ".py",
   "mimetype": "text/x-python",
   "name": "python",
   "nbconvert_exporter": "python",
   "pygments_lexer": "ipython3",
   "version": "3.10.12"
  }
 },
 "nbformat": 4,
 "nbformat_minor": 5
}
