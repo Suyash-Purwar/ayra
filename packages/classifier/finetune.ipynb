{
 "cells": [
  {
   "cell_type": "code",
   "execution_count": 21,
   "id": "b2174e51",
   "metadata": {},
   "outputs": [
    {
     "name": "stdout",
     "output_type": "stream",
     "text": [
      "file-zlE2ur7f6Kghn0MtMgIFT8qC\n"
     ]
    },
    {
     "data": {
      "text/html": [
       "<div>\n",
       "<style scoped>\n",
       "    .dataframe tbody tr th:only-of-type {\n",
       "        vertical-align: middle;\n",
       "    }\n",
       "\n",
       "    .dataframe tbody tr th {\n",
       "        vertical-align: top;\n",
       "    }\n",
       "\n",
       "    .dataframe thead th {\n",
       "        text-align: right;\n",
       "    }\n",
       "</style>\n",
       "<table border=\"1\" class=\"dataframe\">\n",
       "  <thead>\n",
       "    <tr style=\"text-align: right;\">\n",
       "      <th></th>\n",
       "      <th>prompt</th>\n",
       "      <th>completion</th>\n",
       "    </tr>\n",
       "  </thead>\n",
       "  <tbody>\n",
       "    <tr>\n",
       "      <th>0</th>\n",
       "      <td>hi there</td>\n",
       "      <td>0</td>\n",
       "    </tr>\n",
       "    <tr>\n",
       "      <th>1</th>\n",
       "      <td>hey</td>\n",
       "      <td>0</td>\n",
       "    </tr>\n",
       "    <tr>\n",
       "      <th>2</th>\n",
       "      <td>hello</td>\n",
       "      <td>0</td>\n",
       "    </tr>\n",
       "    <tr>\n",
       "      <th>3</th>\n",
       "      <td>good morning</td>\n",
       "      <td>0</td>\n",
       "    </tr>\n",
       "    <tr>\n",
       "      <th>4</th>\n",
       "      <td>good afternoon</td>\n",
       "      <td>0</td>\n",
       "    </tr>\n",
       "    <tr>\n",
       "      <th>...</th>\n",
       "      <td>...</td>\n",
       "      <td>...</td>\n",
       "    </tr>\n",
       "    <tr>\n",
       "      <th>527</th>\n",
       "      <td>teach me how to use</td>\n",
       "      <td>6</td>\n",
       "    </tr>\n",
       "    <tr>\n",
       "      <th>528</th>\n",
       "      <td>sikhao kaise use karein</td>\n",
       "      <td>6</td>\n",
       "    </tr>\n",
       "    <tr>\n",
       "      <th>529</th>\n",
       "      <td>sahaayta</td>\n",
       "      <td>6</td>\n",
       "    </tr>\n",
       "    <tr>\n",
       "      <th>530</th>\n",
       "      <td>sahaayta kariye</td>\n",
       "      <td>6</td>\n",
       "    </tr>\n",
       "    <tr>\n",
       "      <th>531</th>\n",
       "      <td>mereko madad kar</td>\n",
       "      <td>6</td>\n",
       "    </tr>\n",
       "  </tbody>\n",
       "</table>\n",
       "<p>532 rows × 2 columns</p>\n",
       "</div>"
      ],
      "text/plain": [
       "                      prompt  completion\n",
       "0                   hi there           0\n",
       "1                        hey           0\n",
       "2                      hello           0\n",
       "3               good morning           0\n",
       "4             good afternoon           0\n",
       "..                       ...         ...\n",
       "527      teach me how to use           6\n",
       "528  sikhao kaise use karein           6\n",
       "529                 sahaayta           6\n",
       "530          sahaayta kariye           6\n",
       "531         mereko madad kar           6\n",
       "\n",
       "[532 rows x 2 columns]"
      ]
     },
     "execution_count": 21,
     "metadata": {},
     "output_type": "execute_result"
    }
   ],
   "source": [
    "import pandas as pd\n",
    "import configparser\n",
    "import openai\n",
    "\n",
    "# Read credentials\n",
    "parser = configparser.ConfigParser()\n",
    "parser.read('./config/config.ini')\n",
    "print(parser['openai']['TRAINING_DATA_FILE_ID'])\n",
    "\n",
    "# Read raw dataset\n",
    "# Change the iteration folder number for every iteration\n",
    "data = pd.read_csv(\"./dataset/raw-data.csv\")\n",
    "data_df = pd.DataFrame(data)\n",
    "\n",
    "data_df"
   ]
  },
  {
   "cell_type": "code",
   "execution_count": 3,
   "id": "5956dc98",
   "metadata": {},
   "outputs": [],
   "source": [
    "# Convent CSV to JSONL\n",
    "data_df.to_json(\"./dataset/training-data.jsonl\", orient='records', lines=True)"
   ]
  },
  {
   "cell_type": "code",
   "execution_count": 22,
   "id": "0de02417",
   "metadata": {},
   "outputs": [],
   "source": [
    "# Add OpenAI credentials\n",
    "openai.api_key = parser['openai']['ACCESS_KEY']"
   ]
  },
  {
   "cell_type": "code",
   "execution_count": 34,
   "id": "b0a36a78",
   "metadata": {},
   "outputs": [
    {
     "data": {
      "text/plain": [
       "<OpenAIObject list at 0x7ff1fa82de40> JSON: {\n",
       "  \"object\": \"list\",\n",
       "  \"data\": [\n",
       "    {\n",
       "      \"object\": \"fine-tune\",\n",
       "      \"id\": \"ft-O7RMjF3IiBatt5YDf2YY2xqv\",\n",
       "      \"hyperparams\": {\n",
       "        \"n_epochs\": 4,\n",
       "        \"batch_size\": null,\n",
       "        \"prompt_loss_weight\": 0.01,\n",
       "        \"classification_n_classes\": 7,\n",
       "        \"learning_rate_multiplier\": null,\n",
       "        \"compute_classification_metrics\": true\n",
       "      },\n",
       "      \"organization_id\": \"org-gyLMiLCwRbX042wASGsJYdqq\",\n",
       "      \"model\": \"ada\",\n",
       "      \"training_files\": [\n",
       "        {\n",
       "          \"object\": \"file\",\n",
       "          \"id\": \"file-zlE2ur7f6Kghn0MtMgIFT8qC\",\n",
       "          \"purpose\": \"fine-tune\",\n",
       "          \"filename\": \"file\",\n",
       "          \"bytes\": 24607,\n",
       "          \"created_at\": 1691117915,\n",
       "          \"status\": \"processed\",\n",
       "          \"status_details\": null\n",
       "        }\n",
       "      ],\n",
       "      \"validation_files\": [\n",
       "        {\n",
       "          \"object\": \"file\",\n",
       "          \"id\": \"file-cTkPKbSgHtpWTqlwc2vkfQvM\",\n",
       "          \"purpose\": \"fine-tune\",\n",
       "          \"filename\": \"file\",\n",
       "          \"bytes\": 6062,\n",
       "          \"created_at\": 1691117916,\n",
       "          \"status\": \"processed\",\n",
       "          \"status_details\": null\n",
       "        }\n",
       "      ],\n",
       "      \"result_files\": [],\n",
       "      \"created_at\": 1691118281,\n",
       "      \"updated_at\": 1691118281,\n",
       "      \"status\": \"pending\",\n",
       "      \"fine_tuned_model\": null\n",
       "    }\n",
       "  ]\n",
       "}"
      ]
     },
     "execution_count": 34,
     "metadata": {},
     "output_type": "execute_result"
    }
   ],
   "source": [
    "# Lists the fine tune odels created\n",
    "openai.FineTune.list()"
   ]
  },
  {
   "cell_type": "code",
   "execution_count": 15,
   "id": "2882c5b1",
   "metadata": {
    "vscode": {
     "languageId": "powershell"
    }
   },
   "outputs": [
    {
     "ename": "SyntaxError",
     "evalue": "invalid syntax (3277997256.py, line 5)",
     "output_type": "error",
     "traceback": [
      "\u001b[0;36m  Cell \u001b[0;32mIn[15], line 5\u001b[0;36m\u001b[0m\n\u001b[0;31m    openai tools fine_tunes.prepare_data -f './dataset/training-data.jsonl' -q\u001b[0m\n\u001b[0m           ^\u001b[0m\n\u001b[0;31mSyntaxError\u001b[0m\u001b[0;31m:\u001b[0m invalid syntax\n"
     ]
    }
   ],
   "source": [
    "# Sublets the dataset into training and validation jsonl\n",
    "# Formats the dataset for best training results\n",
    "# Run in terminal\n",
    "\n",
    "cd <project folder>/packages/classifer/dataset\n",
    "openai tools fine_tunes.prepare_data -f 'training-data.jsonl' -q"
   ]
  },
  {
   "cell_type": "code",
   "execution_count": 10,
   "id": "4d645c21",
   "metadata": {},
   "outputs": [],
   "source": [
    "# Upload training and validation jsonl file\n",
    "# Retrieve the ID\n",
    "# Run this code once to upload the file\n",
    "\n",
    "training_data = openai.File.create(\n",
    "  file=open(\"./dataset/training-data_prepared_train.jsonl\", \"rb\"),\n",
    "  purpose='fine-tune'\n",
    ")\n",
    "training_data_file_id = training_data.id\n",
    "\n",
    "validation_data = openai.File.create(\n",
    "  file=open(\"./dataset/training-data_prepared_valid.jsonl\", \"rb\"),\n",
    "  purpose='fine-tune'\n",
    ")\n",
    "validation_data_file_id = validation_data.id"
   ]
  },
  {
   "cell_type": "code",
   "execution_count": 11,
   "id": "2d94abcd",
   "metadata": {},
   "outputs": [
    {
     "name": "stdout",
     "output_type": "stream",
     "text": [
      "file-zlE2ur7f6Kghn0MtMgIFT8qC\n",
      "file-cTkPKbSgHtpWTqlwc2vkfQvM\n"
     ]
    }
   ],
   "source": [
    "print(training_data_file_id)\n",
    "print(validation_data_file_id)"
   ]
  },
  {
   "cell_type": "code",
   "execution_count": 20,
   "id": "d626d021",
   "metadata": {},
   "outputs": [],
   "source": [
    "# Snippet to delete the file\n",
    "\n",
    "training_data_file_id = parser['openai']['TRAINING_DATA_FILE_ID']\n",
    "validation_data_file_id = parser['openai']['VALIDATION_DATA_FILE_ID']\n",
    "\n",
    "openai.File.delete(training_data_file_id)\n",
    "openai.File.delete(validation_data_file_id)"
   ]
  },
  {
   "cell_type": "code",
   "execution_count": 23,
   "id": "5c19ba95",
   "metadata": {},
   "outputs": [
    {
     "data": {
      "text/plain": [
       "<FineTune fine-tune id=ft-O7RMjF3IiBatt5YDf2YY2xqv at 0x7ff1fa704900> JSON: {\n",
       "  \"object\": \"fine-tune\",\n",
       "  \"id\": \"ft-O7RMjF3IiBatt5YDf2YY2xqv\",\n",
       "  \"hyperparams\": {\n",
       "    \"n_epochs\": 4,\n",
       "    \"batch_size\": null,\n",
       "    \"prompt_loss_weight\": 0.01,\n",
       "    \"classification_n_classes\": 7,\n",
       "    \"learning_rate_multiplier\": null,\n",
       "    \"compute_classification_metrics\": true\n",
       "  },\n",
       "  \"organization_id\": \"org-gyLMiLCwRbX042wASGsJYdqq\",\n",
       "  \"model\": \"ada\",\n",
       "  \"training_files\": [\n",
       "    {\n",
       "      \"object\": \"file\",\n",
       "      \"id\": \"file-zlE2ur7f6Kghn0MtMgIFT8qC\",\n",
       "      \"purpose\": \"fine-tune\",\n",
       "      \"filename\": \"file\",\n",
       "      \"bytes\": 24607,\n",
       "      \"created_at\": 1691117915,\n",
       "      \"status\": \"processed\",\n",
       "      \"status_details\": null\n",
       "    }\n",
       "  ],\n",
       "  \"validation_files\": [\n",
       "    {\n",
       "      \"object\": \"file\",\n",
       "      \"id\": \"file-cTkPKbSgHtpWTqlwc2vkfQvM\",\n",
       "      \"purpose\": \"fine-tune\",\n",
       "      \"filename\": \"file\",\n",
       "      \"bytes\": 6062,\n",
       "      \"created_at\": 1691117916,\n",
       "      \"status\": \"processed\",\n",
       "      \"status_details\": null\n",
       "    }\n",
       "  ],\n",
       "  \"result_files\": [],\n",
       "  \"created_at\": 1691118281,\n",
       "  \"updated_at\": 1691118281,\n",
       "  \"status\": \"pending\",\n",
       "  \"fine_tuned_model\": null,\n",
       "  \"events\": [\n",
       "    {\n",
       "      \"object\": \"fine-tune-event\",\n",
       "      \"level\": \"info\",\n",
       "      \"message\": \"Created fine-tune: ft-O7RMjF3IiBatt5YDf2YY2xqv\",\n",
       "      \"created_at\": 1691118281\n",
       "    }\n",
       "  ]\n",
       "}"
      ]
     },
     "execution_count": 23,
     "metadata": {},
     "output_type": "execute_result"
    }
   ],
   "source": [
    "# Equivalent CLI query: openai api fine_tunes.create -t \"training-data_prepared_train.jsonl\" -v \"training-data_prepared_valid.jsonl\" --compute_classification_metrics --classification_n_classes 7\n",
    "\n",
    "openai.FineTune.create(\n",
    "  training_file=parser['openai']['TRAINING_DATA_FILE_ID'],\n",
    "  validation_file=parser['openai']['VALIDATION_DATA_FILE_ID'],\n",
    "  model=parser['openai']['MODEL_NAME'],\n",
    "  compute_classification_metrics=True,\n",
    "  classification_n_classes=7,\n",
    "  suffix=\"ayra\"\n",
    ")"
   ]
  },
  {
   "cell_type": "code",
   "execution_count": 43,
   "id": "b4bf459d",
   "metadata": {},
   "outputs": [
    {
     "data": {
      "text/plain": [
       "<FineTune fine-tune id=ft-O7RMjF3IiBatt5YDf2YY2xqv at 0x7ff1fa779cb0> JSON: {\n",
       "  \"object\": \"fine-tune\",\n",
       "  \"id\": \"ft-O7RMjF3IiBatt5YDf2YY2xqv\",\n",
       "  \"hyperparams\": {\n",
       "    \"n_epochs\": 4,\n",
       "    \"batch_size\": null,\n",
       "    \"prompt_loss_weight\": 0.01,\n",
       "    \"classification_n_classes\": 7,\n",
       "    \"learning_rate_multiplier\": null,\n",
       "    \"compute_classification_metrics\": true\n",
       "  },\n",
       "  \"organization_id\": \"org-gyLMiLCwRbX042wASGsJYdqq\",\n",
       "  \"model\": \"ada\",\n",
       "  \"training_files\": [\n",
       "    {\n",
       "      \"object\": \"file\",\n",
       "      \"id\": \"file-zlE2ur7f6Kghn0MtMgIFT8qC\",\n",
       "      \"purpose\": \"fine-tune\",\n",
       "      \"filename\": \"file\",\n",
       "      \"bytes\": 24607,\n",
       "      \"created_at\": 1691117915,\n",
       "      \"status\": \"processed\",\n",
       "      \"status_details\": null\n",
       "    }\n",
       "  ],\n",
       "  \"validation_files\": [\n",
       "    {\n",
       "      \"object\": \"file\",\n",
       "      \"id\": \"file-cTkPKbSgHtpWTqlwc2vkfQvM\",\n",
       "      \"purpose\": \"fine-tune\",\n",
       "      \"filename\": \"file\",\n",
       "      \"bytes\": 6062,\n",
       "      \"created_at\": 1691117916,\n",
       "      \"status\": \"processed\",\n",
       "      \"status_details\": null\n",
       "    }\n",
       "  ],\n",
       "  \"result_files\": [],\n",
       "  \"created_at\": 1691118281,\n",
       "  \"updated_at\": 1691118281,\n",
       "  \"status\": \"pending\",\n",
       "  \"fine_tuned_model\": null,\n",
       "  \"events\": [\n",
       "    {\n",
       "      \"object\": \"fine-tune-event\",\n",
       "      \"level\": \"info\",\n",
       "      \"message\": \"Created fine-tune: ft-O7RMjF3IiBatt5YDf2YY2xqv\",\n",
       "      \"created_at\": 1691118281\n",
       "    }\n",
       "  ]\n",
       "}"
      ]
     },
     "execution_count": 43,
     "metadata": {},
     "output_type": "execute_result"
    }
   ],
   "source": [
    "openai.FineTune.retrieve(id='ft-O7RMjF3IiBatt5YDf2YY2xqv')"
   ]
  },
  {
   "cell_type": "code",
   "execution_count": 44,
   "id": "2114799f",
   "metadata": {},
   "outputs": [
    {
     "data": {
      "text/plain": [
       "<OpenAIObject list at 0x7ff2342558a0> JSON: {\n",
       "  \"object\": \"list\",\n",
       "  \"data\": [\n",
       "    {\n",
       "      \"object\": \"fine-tune-event\",\n",
       "      \"level\": \"info\",\n",
       "      \"message\": \"Created fine-tune: ft-O7RMjF3IiBatt5YDf2YY2xqv\",\n",
       "      \"created_at\": 1691118281\n",
       "    }\n",
       "  ]\n",
       "}"
      ]
     },
     "execution_count": 44,
     "metadata": {},
     "output_type": "execute_result"
    }
   ],
   "source": [
    "# Checks the status of the fine tune job\n",
    "\n",
    "openai.FineTune.list_events(id=\"ft-O7RMjF3IiBatt5YDf2YY2xqv\")\n",
    "\n",
    "# Command Line version\n",
    "\n",
    "# openai --api-key <api-key> api fine_tunes.follow -i <fine-tune_id>"
   ]
  }
 ],
 "metadata": {
  "kernelspec": {
   "display_name": "Python 3 (ipykernel)",
   "language": "python",
   "name": "python3"
  },
  "language_info": {
   "codemirror_mode": {
    "name": "ipython",
    "version": 3
   },
   "file_extension": ".py",
   "mimetype": "text/x-python",
   "name": "python",
   "nbconvert_exporter": "python",
   "pygments_lexer": "ipython3",
   "version": "3.10.12"
  }
 },
 "nbformat": 4,
 "nbformat_minor": 5
}
